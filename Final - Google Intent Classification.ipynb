{
 "cells": [
  {
   "cell_type": "code",
   "execution_count": null,
   "id": "ee223ac5",
   "metadata": {},
   "outputs": [],
   "source": [
    "import pandas as pd\n",
    "import numpy as np\n",
    "from tensorflow import keras\n",
    "import matplotlib.pyplot as plt\n",
    "import google.generativeai as palm\n",
    "from sklearn.model_selection import train_test_split\n",
    "from sklearn.preprocessing import LabelEncoder"
   ]
  },
  {
   "cell_type": "code",
   "execution_count": null,
   "id": "ea2684bf",
   "metadata": {},
   "outputs": [],
   "source": [
    "# Configure the API key\n",
    "palm.configure(api_key='')"
   ]
  },
  {
   "cell_type": "code",
   "execution_count": null,
   "id": "8aa4502d",
   "metadata": {},
   "outputs": [],
   "source": [
    "# define a model for embeddings. \n",
    "models = [m for m in palm.list_models() if 'embedText' in m.supported_generation_methods]\n",
    "\n",
    "# Select a defined model. \n",
    "model = models[0]"
   ]
  },
  {
   "cell_type": "code",
   "execution_count": null,
   "id": "8b2b053d",
   "metadata": {},
   "outputs": [],
   "source": [
    "# Define the dataset\n",
    "positive_data = [\n",
    "    \"I had a great experience at the restaurant last night. The food was delicious!\",\n",
    "    \"The customer support team was very helpful. They resolved my issue quickly.\",\n",
    "    \"I can't believe how fast my computer is after the recent upgrade.\",\n",
    "    \"The movie I watched last weekend was so entertaining. I couldn't stop laughing!\",\n",
    "    \"I'm really looking forward to the upcoming vacation. It's been a long year of hard work.\",\n",
    "    \"I just finished reading a fantastic novel. The plot was so engaging.\",\n",
    "    \"The new smartphone has amazing features. I'm impressed with the camera quality.\",\n",
    "    \"The concert last night was incredible. The band played all my favorite songs.\",\n",
    "    \"I'm enjoying my new fitness routine. I feel healthier and more energized.\",\n",
    "]\n",
    "\n",
    "negative_data = [\n",
    "    \"The new smartphone has amazing features, but the battery life is disappointing.\",\n",
    "    \"I had a tough day at work today. The workload was overwhelming.\",\n",
    "    \"The venue at the concert last night was overcrowded and hot.\",\n",
    "    \"I'm not a fan of the new software update. It's causing compatibility issues with my apps.\",\n",
    "    \"The service at the restaurant was terrible. The staff was rude, and the food was cold.\",\n",
    "    \"I had a terrible experience with the airline. My flight was delayed, and my luggage was lost.\",\n",
    "    \"The weather has been awful lately. It's been raining non-stop for days.\",\n",
    "]\n",
    "\n",
    "neutral_data = [\n",
    "    \"I'm currently reading a new book.\",\n",
    "    \"I have some work to do later.\",\n",
    "    \"The weather today is neither too hot nor too cold.\",\n",
    "    \"I'm planning to go for a walk this evening.\",\n",
    "    \"I need to buy groceries on my way home.\",\n",
    "    \"I'm considering trying a new restaurant in town.\",\n",
    "    \"I watched a documentary last night.\",\n",
    "    \"I'm thinking of redecorating my living room.\",\n",
    "]\n",
    "\n",
    "\n",
    "\n",
    "data = positive_data + negative_data + neutral_data\n",
    "labels = ['positive'] * len(positive_data) + ['negative'] * len(negative_data) + ['neutral'] * len(neutral_data)\n",
    "\n",
    "\n",
    "\n",
    "df = pd.DataFrame({'text': data, 'label': labels})"
   ]
  },
  {
   "cell_type": "code",
   "execution_count": null,
   "id": "1260efa5",
   "metadata": {},
   "outputs": [],
   "source": [
    "df.label.unique()"
   ]
  },
  {
   "cell_type": "code",
   "execution_count": null,
   "id": "e6ec8377",
   "metadata": {},
   "outputs": [],
   "source": [
    "# split the data into train and text into 80-20 propertion. \n",
    "X_train, X_test, y_train, y_test = train_test_split(df['text'], df['label'], test_size=0.2, random_state=42)"
   ]
  },
  {
   "cell_type": "code",
   "execution_count": null,
   "id": "a37fd03a",
   "metadata": {},
   "outputs": [],
   "source": [
    "def embed_text(text):\n",
    "    return palm.generate_embeddings(model=model, text=text)['embedding']\n",
    "\n",
    "# Embed text for training and testing data\n",
    "X_train_embeddings = np.array([embed_text(text) for text in X_train])\n",
    "X_test_embeddings = np.array([embed_text(text) for text in X_test])\n",
    "\n",
    "# Encode labels using LabelEncoder\n",
    "label_encoder = LabelEncoder()\n",
    "y_train_encoded = label_encoder.fit_transform(y_train)\n",
    "y_test_encoded = label_encoder.transform(y_test)"
   ]
  },
  {
   "cell_type": "code",
   "execution_count": null,
   "id": "41966535",
   "metadata": {},
   "outputs": [],
   "source": [
    "def build_classification_model(input_size, num_classes):\n",
    "    inputs = keras.Input(shape=(input_size,))\n",
    "    x = keras.layers.Dense(input_size, activation='relu')(inputs)\n",
    "    outputs = keras.layers.Dense(num_classes, activation='softmax')(x)\n",
    "    return keras.Model(inputs=inputs, outputs=outputs)\n",
    "\n",
    "# Create and compile the model\n",
    "num_classes = len(label_encoder.classes_)\n",
    "classifier = build_classification_model(X_train_embeddings.shape[1], num_classes)\n",
    "classifier.compile(loss='sparse_categorical_crossentropy', optimizer='adam', metrics=['accuracy'])\n",
    "\n",
    "callback = keras.callbacks.EarlyStopping(monitor='accuracy', patience=3)\n",
    "\n",
    "# Train the model\n",
    "NUM_EPOCHS = 20\n",
    "BATCH_SIZE = 32\n",
    "history = classifier.fit(X_train_embeddings, y_train_encoded, batch_size=BATCH_SIZE, epochs=NUM_EPOCHS,callbacks=[callback], validation_split=0.2)"
   ]
  },
  {
   "cell_type": "code",
   "execution_count": null,
   "id": "3b2bf07e",
   "metadata": {},
   "outputs": [],
   "source": []
  },
  {
   "cell_type": "code",
   "execution_count": null,
   "id": "78b5ddb1",
   "metadata": {},
   "outputs": [],
   "source": [
    "def plot_history(history):\n",
    "  \"\"\"\n",
    "    Plotting training and validation learning curves.\n",
    "\n",
    "    Args:\n",
    "      history: model history with all the metric measures\n",
    "  \"\"\"\n",
    "  fig, (ax1, ax2) = plt.subplots(1,2)\n",
    "  fig.set_size_inches(20, 8)\n",
    "\n",
    "  # Plot loss\n",
    "  ax1.set_title('Loss')\n",
    "  ax1.plot(history.history['loss'], label = 'train')\n",
    "  ax1.plot(history.history['val_loss'], label = 'test')\n",
    "  ax1.set_ylabel('Loss')\n",
    "\n",
    "  ax1.set_xlabel('Epoch')\n",
    "  ax1.legend(['Train', 'Validation'])\n",
    "\n",
    "  # Plot accuracy\n",
    "  ax2.set_title('Accuracy')\n",
    "  ax2.plot(history.history['accuracy'],  label = 'train')\n",
    "  ax2.plot(history.history['val_accuracy'], label = 'test')\n",
    "  ax2.set_ylabel('Accuracy')\n",
    "  ax2.set_xlabel('Epoch')\n",
    "  ax2.legend(['Train', 'Validation'])\n",
    "\n",
    "  plt.show()\n",
    "\n",
    "plot_history(history)"
   ]
  },
  {
   "cell_type": "code",
   "execution_count": null,
   "id": "60600b8a",
   "metadata": {},
   "outputs": [],
   "source": []
  },
  {
   "cell_type": "code",
   "execution_count": null,
   "id": "fb8c8d5b",
   "metadata": {},
   "outputs": [],
   "source": []
  },
  {
   "cell_type": "code",
   "execution_count": null,
   "id": "6680ae35",
   "metadata": {},
   "outputs": [],
   "source": []
  },
  {
   "cell_type": "code",
   "execution_count": null,
   "id": "7bdeeb45",
   "metadata": {},
   "outputs": [],
   "source": [
    "y_hat = classifier.predict(x=X_test_embeddings)\n",
    "y_hat = np.argmax(y_hat, axis=1)"
   ]
  },
  {
   "cell_type": "code",
   "execution_count": null,
   "id": "ba32bfc0",
   "metadata": {},
   "outputs": [],
   "source": [
    "y_hat"
   ]
  },
  {
   "cell_type": "code",
   "execution_count": null,
   "id": "54515205",
   "metadata": {},
   "outputs": [],
   "source": []
  },
  {
   "cell_type": "code",
   "execution_count": null,
   "id": "c039be4a",
   "metadata": {},
   "outputs": [],
   "source": []
  },
  {
   "cell_type": "code",
   "execution_count": null,
   "id": "1f407ba8",
   "metadata": {},
   "outputs": [],
   "source": []
  },
  {
   "cell_type": "code",
   "execution_count": null,
   "id": "04b188e9",
   "metadata": {},
   "outputs": [],
   "source": [
    "input_text = \"This mobile is really giving me lot of trouble\"\n",
    "\n",
    "\n",
    "input_embedding = np.array([embed_text(input_text)])\n",
    "predicted_probabilities = classifier.predict(input_embedding)\n",
    "predicted_label = label_encoder.inverse_transform([np.argmax(predicted_probabilities)])[0]\n",
    "for score in predicted_probabilities:\n",
    "    score = score.max()\n",
    "    \n",
    "\n",
    "# Print the predicted label\n",
    "print(f\"Predicted Label: {predicted_label}, with confidence : {score*100}%\")\n",
    "print(predicted_probabilities)"
   ]
  },
  {
   "cell_type": "code",
   "execution_count": null,
   "id": "95e707ed",
   "metadata": {},
   "outputs": [],
   "source": []
  }
 ],
 "metadata": {
  "kernelspec": {
   "display_name": "Python 3 (ipykernel)",
   "language": "python",
   "name": "python3"
  },
  "language_info": {
   "codemirror_mode": {
    "name": "ipython",
    "version": 3
   },
   "file_extension": ".py",
   "mimetype": "text/x-python",
   "name": "python",
   "nbconvert_exporter": "python",
   "pygments_lexer": "ipython3",
   "version": "3.11.5"
  }
 },
 "nbformat": 4,
 "nbformat_minor": 5
}
